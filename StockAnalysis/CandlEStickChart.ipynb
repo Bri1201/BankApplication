{
 "cells": [
  {
   "cell_type": "code",
   "execution_count": 1,
   "id": "155f2517",
   "metadata": {},
   "outputs": [],
   "source": [
    "import pandas as pd\n",
    "import numpy as np\n",
    "import yfinance\n",
    "from mplfinance.original_flavor import candlestick_ohlc\n",
    "import matplotlib.dates as mpl_dates\n",
    "import matplotlib.pyplot as plt"
   ]
  },
  {
   "cell_type": "code",
   "execution_count": 2,
   "id": "d4cebde0",
   "metadata": {},
   "outputs": [],
   "source": [
    "ticker = yfinance.Ticker('ASIANPAINT.ns')"
   ]
  },
  {
   "cell_type": "code",
   "execution_count": 3,
   "id": "dfe7db99",
   "metadata": {},
   "outputs": [],
   "source": [
    "df = ticker.history(interval=\"1d\", start=\"2020-03-15\", end=\"2020-07-15\")\n",
    "df['Date'] = pd.to_datetime(df.index)\n",
    "df['Date'] = df['Date'].apply(mpl_dates.date2num)"
   ]
  },
  {
   "cell_type": "code",
   "execution_count": 4,
   "id": "b9f9e85e",
   "metadata": {},
   "outputs": [
    {
     "data": {
      "text/html": [
       "<div>\n",
       "<style scoped>\n",
       "    .dataframe tbody tr th:only-of-type {\n",
       "        vertical-align: middle;\n",
       "    }\n",
       "\n",
       "    .dataframe tbody tr th {\n",
       "        vertical-align: top;\n",
       "    }\n",
       "\n",
       "    .dataframe thead th {\n",
       "        text-align: right;\n",
       "    }\n",
       "</style>\n",
       "<table border=\"1\" class=\"dataframe\">\n",
       "  <thead>\n",
       "    <tr style=\"text-align: right;\">\n",
       "      <th></th>\n",
       "      <th>Open</th>\n",
       "      <th>High</th>\n",
       "      <th>Low</th>\n",
       "      <th>Close</th>\n",
       "      <th>Volume</th>\n",
       "      <th>Dividends</th>\n",
       "      <th>Stock Splits</th>\n",
       "      <th>Date</th>\n",
       "    </tr>\n",
       "    <tr>\n",
       "      <th>Date</th>\n",
       "      <th></th>\n",
       "      <th></th>\n",
       "      <th></th>\n",
       "      <th></th>\n",
       "      <th></th>\n",
       "      <th></th>\n",
       "      <th></th>\n",
       "      <th></th>\n",
       "    </tr>\n",
       "  </thead>\n",
       "  <tbody>\n",
       "    <tr>\n",
       "      <th>2020-03-16</th>\n",
       "      <td>1751.813487</td>\n",
       "      <td>1751.813487</td>\n",
       "      <td>1654.364573</td>\n",
       "      <td>1659.540161</td>\n",
       "      <td>2867336</td>\n",
       "      <td>0</td>\n",
       "      <td>0</td>\n",
       "      <td>18337.0</td>\n",
       "    </tr>\n",
       "    <tr>\n",
       "      <th>2020-03-17</th>\n",
       "      <td>1674.918970</td>\n",
       "      <td>1754.573787</td>\n",
       "      <td>1646.330006</td>\n",
       "      <td>1707.056885</td>\n",
       "      <td>2643189</td>\n",
       "      <td>0</td>\n",
       "      <td>0</td>\n",
       "      <td>18338.0</td>\n",
       "    </tr>\n",
       "    <tr>\n",
       "      <th>2020-03-18</th>\n",
       "      <td>1707.451378</td>\n",
       "      <td>1733.625118</td>\n",
       "      <td>1585.208901</td>\n",
       "      <td>1595.264282</td>\n",
       "      <td>3676437</td>\n",
       "      <td>0</td>\n",
       "      <td>0</td>\n",
       "      <td>18339.0</td>\n",
       "    </tr>\n",
       "    <tr>\n",
       "      <th>2020-03-19</th>\n",
       "      <td>1518.172719</td>\n",
       "      <td>1630.507594</td>\n",
       "      <td>1410.914754</td>\n",
       "      <td>1578.505249</td>\n",
       "      <td>4906644</td>\n",
       "      <td>0</td>\n",
       "      <td>0</td>\n",
       "      <td>18340.0</td>\n",
       "    </tr>\n",
       "    <tr>\n",
       "      <th>2020-03-20</th>\n",
       "      <td>1587.180633</td>\n",
       "      <td>1732.491481</td>\n",
       "      <td>1548.289827</td>\n",
       "      <td>1718.246216</td>\n",
       "      <td>3128629</td>\n",
       "      <td>0</td>\n",
       "      <td>0</td>\n",
       "      <td>18341.0</td>\n",
       "    </tr>\n",
       "  </tbody>\n",
       "</table>\n",
       "</div>"
      ],
      "text/plain": [
       "                   Open         High          Low        Close   Volume  \\\n",
       "Date                                                                      \n",
       "2020-03-16  1751.813487  1751.813487  1654.364573  1659.540161  2867336   \n",
       "2020-03-17  1674.918970  1754.573787  1646.330006  1707.056885  2643189   \n",
       "2020-03-18  1707.451378  1733.625118  1585.208901  1595.264282  3676437   \n",
       "2020-03-19  1518.172719  1630.507594  1410.914754  1578.505249  4906644   \n",
       "2020-03-20  1587.180633  1732.491481  1548.289827  1718.246216  3128629   \n",
       "\n",
       "            Dividends  Stock Splits     Date  \n",
       "Date                                          \n",
       "2020-03-16          0             0  18337.0  \n",
       "2020-03-17          0             0  18338.0  \n",
       "2020-03-18          0             0  18339.0  \n",
       "2020-03-19          0             0  18340.0  \n",
       "2020-03-20          0             0  18341.0  "
      ]
     },
     "execution_count": 4,
     "metadata": {},
     "output_type": "execute_result"
    }
   ],
   "source": [
    "df.head()"
   ]
  },
  {
   "cell_type": "code",
   "execution_count": 5,
   "id": "ddf29c94",
   "metadata": {},
   "outputs": [],
   "source": [
    "df = df.loc[:,['Date','Open','High','Low','Close']]"
   ]
  },
  {
   "cell_type": "code",
   "execution_count": 6,
   "id": "c8c41b0b",
   "metadata": {},
   "outputs": [
    {
     "data": {
      "text/html": [
       "<div>\n",
       "<style scoped>\n",
       "    .dataframe tbody tr th:only-of-type {\n",
       "        vertical-align: middle;\n",
       "    }\n",
       "\n",
       "    .dataframe tbody tr th {\n",
       "        vertical-align: top;\n",
       "    }\n",
       "\n",
       "    .dataframe thead th {\n",
       "        text-align: right;\n",
       "    }\n",
       "</style>\n",
       "<table border=\"1\" class=\"dataframe\">\n",
       "  <thead>\n",
       "    <tr style=\"text-align: right;\">\n",
       "      <th></th>\n",
       "      <th>Date</th>\n",
       "      <th>Open</th>\n",
       "      <th>High</th>\n",
       "      <th>Low</th>\n",
       "      <th>Close</th>\n",
       "    </tr>\n",
       "    <tr>\n",
       "      <th>Date</th>\n",
       "      <th></th>\n",
       "      <th></th>\n",
       "      <th></th>\n",
       "      <th></th>\n",
       "      <th></th>\n",
       "    </tr>\n",
       "  </thead>\n",
       "  <tbody>\n",
       "    <tr>\n",
       "      <th>2020-03-16</th>\n",
       "      <td>18337.0</td>\n",
       "      <td>1751.813487</td>\n",
       "      <td>1751.813487</td>\n",
       "      <td>1654.364573</td>\n",
       "      <td>1659.540161</td>\n",
       "    </tr>\n",
       "    <tr>\n",
       "      <th>2020-03-17</th>\n",
       "      <td>18338.0</td>\n",
       "      <td>1674.918970</td>\n",
       "      <td>1754.573787</td>\n",
       "      <td>1646.330006</td>\n",
       "      <td>1707.056885</td>\n",
       "    </tr>\n",
       "    <tr>\n",
       "      <th>2020-03-18</th>\n",
       "      <td>18339.0</td>\n",
       "      <td>1707.451378</td>\n",
       "      <td>1733.625118</td>\n",
       "      <td>1585.208901</td>\n",
       "      <td>1595.264282</td>\n",
       "    </tr>\n",
       "    <tr>\n",
       "      <th>2020-03-19</th>\n",
       "      <td>18340.0</td>\n",
       "      <td>1518.172719</td>\n",
       "      <td>1630.507594</td>\n",
       "      <td>1410.914754</td>\n",
       "      <td>1578.505249</td>\n",
       "    </tr>\n",
       "    <tr>\n",
       "      <th>2020-03-20</th>\n",
       "      <td>18341.0</td>\n",
       "      <td>1587.180633</td>\n",
       "      <td>1732.491481</td>\n",
       "      <td>1548.289827</td>\n",
       "      <td>1718.246216</td>\n",
       "    </tr>\n",
       "  </tbody>\n",
       "</table>\n",
       "</div>"
      ],
      "text/plain": [
       "               Date         Open         High          Low        Close\n",
       "Date                                                                   \n",
       "2020-03-16  18337.0  1751.813487  1751.813487  1654.364573  1659.540161\n",
       "2020-03-17  18338.0  1674.918970  1754.573787  1646.330006  1707.056885\n",
       "2020-03-18  18339.0  1707.451378  1733.625118  1585.208901  1595.264282\n",
       "2020-03-19  18340.0  1518.172719  1630.507594  1410.914754  1578.505249\n",
       "2020-03-20  18341.0  1587.180633  1732.491481  1548.289827  1718.246216"
      ]
     },
     "execution_count": 6,
     "metadata": {},
     "output_type": "execute_result"
    }
   ],
   "source": [
    "df.head()"
   ]
  },
  {
   "cell_type": "code",
   "execution_count": 7,
   "id": "1bc09b45",
   "metadata": {},
   "outputs": [],
   "source": [
    "def plot_all():\n",
    "  fig, ax = plt.subplots()\n",
    "  candlestick_ohlc(ax,df.values,width=0.6, \\\n",
    "                   colorup='green', colordown='red', alpha=0.8)\n",
    "  date_format = mpl_dates.DateFormatter('%d %b %Y')\n",
    "  ax.xaxis.set_major_formatter(date_format)\n",
    "  fig.autofmt_xdate()\n",
    "  fig.tight_layout()\n",
    "  fig.show()"
   ]
  },
  {
   "cell_type": "code",
   "execution_count": 9,
   "id": "c4af6460",
   "metadata": {},
   "outputs": [
    {
     "name": "stderr",
     "output_type": "stream",
     "text": [
      "C:\\Users\\dhing\\AppData\\Local\\Temp/ipykernel_8212/3474337361.py:9: UserWarning: Matplotlib is currently using module://matplotlib_inline.backend_inline, which is a non-GUI backend, so cannot show the figure.\n",
      "  fig.show()\n"
     ]
    },
    {
     "data": {
      "image/png": "[encoded data removed]",
      "text/plain": [
       "<Figure size 864x504 with 1 Axes>"
      ]
     },
     "metadata": {
      "needs_background": "light"
     },
     "output_type": "display_data"
    }
   ],
   "source": [
    "plt.rcParams['figure.figsize'] = [12, 7]\n",
    "plt.rc('font', size=14)\n",
    "plot_all()"
   ]
  },
  {
   "cell_type": "code",
   "execution_count": 10,
   "id": "a3fecef6",
   "metadata": {},
   "outputs": [],
   "source": [
    "signals = []\n",
    "for i in range(len(df)):\n",
    "    if df.iloc[i,4]>df.iloc[i,1]:\n",
    "        signals.append(1)\n",
    "    else:\n",
    "        signals.append(0)\n",
    "df['Signal'] = signals"
   ]
  },
  {
   "cell_type": "code",
   "execution_count": 11,
   "id": "f734acc7",
   "metadata": {},
   "outputs": [
    {
     "data": {
      "text/html": [
       "<div>\n",
       "<style scoped>\n",
       "    .dataframe tbody tr th:only-of-type {\n",
       "        vertical-align: middle;\n",
       "    }\n",
       "\n",
       "    .dataframe tbody tr th {\n",
       "        vertical-align: top;\n",
       "    }\n",
       "\n",
       "    .dataframe thead th {\n",
       "        text-align: right;\n",
       "    }\n",
       "</style>\n",
       "<table border=\"1\" class=\"dataframe\">\n",
       "  <thead>\n",
       "    <tr style=\"text-align: right;\">\n",
       "      <th></th>\n",
       "      <th>Date</th>\n",
       "      <th>Open</th>\n",
       "      <th>High</th>\n",
       "      <th>Low</th>\n",
       "      <th>Close</th>\n",
       "      <th>Signal</th>\n",
       "    </tr>\n",
       "    <tr>\n",
       "      <th>Date</th>\n",
       "      <th></th>\n",
       "      <th></th>\n",
       "      <th></th>\n",
       "      <th></th>\n",
       "      <th></th>\n",
       "      <th></th>\n",
       "    </tr>\n",
       "  </thead>\n",
       "  <tbody>\n",
       "    <tr>\n",
       "      <th>2020-03-16</th>\n",
       "      <td>18337.0</td>\n",
       "      <td>1751.813487</td>\n",
       "      <td>1751.813487</td>\n",
       "      <td>1654.364573</td>\n",
       "      <td>1659.540161</td>\n",
       "      <td>0</td>\n",
       "    </tr>\n",
       "    <tr>\n",
       "      <th>2020-03-17</th>\n",
       "      <td>18338.0</td>\n",
       "      <td>1674.918970</td>\n",
       "      <td>1754.573787</td>\n",
       "      <td>1646.330006</td>\n",
       "      <td>1707.056885</td>\n",
       "      <td>1</td>\n",
       "    </tr>\n",
       "    <tr>\n",
       "      <th>2020-03-18</th>\n",
       "      <td>18339.0</td>\n",
       "      <td>1707.451378</td>\n",
       "      <td>1733.625118</td>\n",
       "      <td>1585.208901</td>\n",
       "      <td>1595.264282</td>\n",
       "      <td>0</td>\n",
       "    </tr>\n",
       "    <tr>\n",
       "      <th>2020-03-19</th>\n",
       "      <td>18340.0</td>\n",
       "      <td>1518.172719</td>\n",
       "      <td>1630.507594</td>\n",
       "      <td>1410.914754</td>\n",
       "      <td>1578.505249</td>\n",
       "      <td>1</td>\n",
       "    </tr>\n",
       "    <tr>\n",
       "      <th>2020-03-20</th>\n",
       "      <td>18341.0</td>\n",
       "      <td>1587.180633</td>\n",
       "      <td>1732.491481</td>\n",
       "      <td>1548.289827</td>\n",
       "      <td>1718.246216</td>\n",
       "      <td>1</td>\n",
       "    </tr>\n",
       "  </tbody>\n",
       "</table>\n",
       "</div>"
      ],
      "text/plain": [
       "               Date         Open         High          Low        Close  \\\n",
       "Date                                                                      \n",
       "2020-03-16  18337.0  1751.813487  1751.813487  1654.364573  1659.540161   \n",
       "2020-03-17  18338.0  1674.918970  1754.573787  1646.330006  1707.056885   \n",
       "2020-03-18  18339.0  1707.451378  1733.625118  1585.208901  1595.264282   \n",
       "2020-03-19  18340.0  1518.172719  1630.507594  1410.914754  1578.505249   \n",
       "2020-03-20  18341.0  1587.180633  1732.491481  1548.289827  1718.246216   \n",
       "\n",
       "            Signal  \n",
       "Date                \n",
       "2020-03-16       0  \n",
       "2020-03-17       1  \n",
       "2020-03-18       0  \n",
       "2020-03-19       1  \n",
       "2020-03-20       1  "
      ]
     },
     "execution_count": 11,
     "metadata": {},
     "output_type": "execute_result"
    }
   ],
   "source": [
    "df.head()"
   ]
  },
  {
   "cell_type": "code",
   "execution_count": 12,
   "id": "78a69dd2",
   "metadata": {},
   "outputs": [
    {
     "data": {
      "text/html": [
       "<div>\n",
       "<style scoped>\n",
       "    .dataframe tbody tr th:only-of-type {\n",
       "        vertical-align: middle;\n",
       "    }\n",
       "\n",
       "    .dataframe tbody tr th {\n",
       "        vertical-align: top;\n",
       "    }\n",
       "\n",
       "    .dataframe thead th {\n",
       "        text-align: right;\n",
       "    }\n",
       "</style>\n",
       "<table border=\"1\" class=\"dataframe\">\n",
       "  <thead>\n",
       "    <tr style=\"text-align: right;\">\n",
       "      <th></th>\n",
       "      <th>Date</th>\n",
       "      <th>Open</th>\n",
       "      <th>High</th>\n",
       "      <th>Low</th>\n",
       "      <th>Close</th>\n",
       "      <th>Signal</th>\n",
       "    </tr>\n",
       "    <tr>\n",
       "      <th>Date</th>\n",
       "      <th></th>\n",
       "      <th></th>\n",
       "      <th></th>\n",
       "      <th></th>\n",
       "      <th></th>\n",
       "      <th></th>\n",
       "    </tr>\n",
       "  </thead>\n",
       "  <tbody>\n",
       "    <tr>\n",
       "      <th>2020-07-08</th>\n",
       "      <td>18451.0</td>\n",
       "      <td>1725.196163</td>\n",
       "      <td>1736.828963</td>\n",
       "      <td>1656.237656</td>\n",
       "      <td>1662.349731</td>\n",
       "      <td>0</td>\n",
       "    </tr>\n",
       "    <tr>\n",
       "      <th>2020-07-09</th>\n",
       "      <td>18452.0</td>\n",
       "      <td>1669.989936</td>\n",
       "      <td>1697.593076</td>\n",
       "      <td>1668.116842</td>\n",
       "      <td>1692.910400</td>\n",
       "      <td>1</td>\n",
       "    </tr>\n",
       "    <tr>\n",
       "      <th>2020-07-10</th>\n",
       "      <td>18453.0</td>\n",
       "      <td>1683.742349</td>\n",
       "      <td>1686.749168</td>\n",
       "      <td>1671.173061</td>\n",
       "      <td>1679.355469</td>\n",
       "      <td>0</td>\n",
       "    </tr>\n",
       "    <tr>\n",
       "      <th>2020-07-13</th>\n",
       "      <td>18456.0</td>\n",
       "      <td>1683.791522</td>\n",
       "      <td>1708.338623</td>\n",
       "      <td>1675.904910</td>\n",
       "      <td>1681.474854</td>\n",
       "      <td>0</td>\n",
       "    </tr>\n",
       "    <tr>\n",
       "      <th>2020-07-14</th>\n",
       "      <td>18457.0</td>\n",
       "      <td>1681.474743</td>\n",
       "      <td>1693.649674</td>\n",
       "      <td>1658.258484</td>\n",
       "      <td>1664.469238</td>\n",
       "      <td>0</td>\n",
       "    </tr>\n",
       "  </tbody>\n",
       "</table>\n",
       "</div>"
      ],
      "text/plain": [
       "               Date         Open         High          Low        Close  \\\n",
       "Date                                                                      \n",
       "2020-07-08  18451.0  1725.196163  1736.828963  1656.237656  1662.349731   \n",
       "2020-07-09  18452.0  1669.989936  1697.593076  1668.116842  1692.910400   \n",
       "2020-07-10  18453.0  1683.742349  1686.749168  1671.173061  1679.355469   \n",
       "2020-07-13  18456.0  1683.791522  1708.338623  1675.904910  1681.474854   \n",
       "2020-07-14  18457.0  1681.474743  1693.649674  1658.258484  1664.469238   \n",
       "\n",
       "            Signal  \n",
       "Date                \n",
       "2020-07-08       0  \n",
       "2020-07-09       1  \n",
       "2020-07-10       0  \n",
       "2020-07-13       0  \n",
       "2020-07-14       0  "
      ]
     },
     "execution_count": 12,
     "metadata": {},
     "output_type": "execute_result"
    }
   ],
   "source": [
    "df.tail()"
   ]
  },
  {
   "cell_type": "code",
   "execution_count": 23,
   "id": "89dba2eb",
   "metadata": {},
   "outputs": [
    {
     "data": {
      "text/plain": [
       "1654.3645726098293"
      ]
     },
     "execution_count": 23,
     "metadata": {},
     "output_type": "execute_result"
    }
   ],
   "source": [
    "#initial\n",
    "support = df.iloc[0]['Low']\n",
    "support"
   ]
  },
  {
   "cell_type": "code",
   "execution_count": 24,
   "id": "69be3dc9",
   "metadata": {},
   "outputs": [
    {
     "data": {
      "text/plain": [
       "1751.8134867316883"
      ]
     },
     "execution_count": 24,
     "metadata": {},
     "output_type": "execute_result"
    }
   ],
   "source": [
    "#intial\n",
    "resistance = df.iloc[0]['High']\n",
    "resistance"
   ]
  },
  {
   "cell_type": "code",
   "execution_count": 30,
   "id": "521f221d",
   "metadata": {},
   "outputs": [],
   "source": [
    "breakout_points = []\n",
    "r = []\n",
    "dater = []\n",
    "dater.append(df.iloc[0]['Date'])\n",
    "s = []\n",
    "dates = []\n",
    "dates.append(df.iloc[0]['Date'])\n",
    "for i in range(len(df)):\n",
    "    #When support becomes resistance\n",
    "    if(df.iloc[i]['High'] <= support):\n",
    "        resistance = support\n",
    "        r.append(support)\n",
    "        #Finding new support\n",
    "        minm = df.iloc[i]['High']\n",
    "        for k in range(i+1, len(df)):\n",
    "            if (df.iloc[k]['Low']) >= resistance:\n",
    "                break\n",
    "            if (df.iloc[k]['High']) >= resistance:\n",
    "                break\n",
    "            if (df.iloc[k]['Low'] <= minm ):\n",
    "                minm = df.iloc[k]['Low']\n",
    "            if (df.iloc[k]['High'] <= minm):\n",
    "                minm = df.iloc[k]['High']\n",
    "        support = minm\n",
    "        s.append(support)\n",
    "    if(df.iloc[i]['Low'] <= support):\n",
    "        resistance = support\n",
    "        r.append(support)\n",
    "        #Finding new support\n",
    "        minm = df.iloc[i]['Low']\n",
    "        for k in range(i+1, len(df)):\n",
    "            if (df.iloc[k]['Low']) >= resistance:\n",
    "                break\n",
    "            if (df.iloc[k]['High']) >= resistance:\n",
    "                break\n",
    "            if (df.iloc[k]['Low'] <= minm ):\n",
    "                minm = df.iloc[k]['Low']\n",
    "            if (df.iloc[k]['High'] <= minm):\n",
    "                minm = df.iloc[k]['High']\n",
    "        support = minm\n",
    "        s.append(support)\n",
    "    if(df.iloc[i]['Low'] >= resistance):\n",
    "        support = resistance\n",
    "        s.append(resistance)\n",
    "        #Finding new resistance\n",
    "        maxm = df.iloc[i]['Low']\n",
    "        for k in range(i+1, len(df)):\n",
    "            if (df.iloc[k]['Low']) <= support:\n",
    "                break\n",
    "            if (df.iloc[k]['High']) <= support:\n",
    "                break\n",
    "            if (df.iloc[k]['Low'] >= maxm ):\n",
    "                maxm = df.iloc[k]['Low']\n",
    "            if (df.iloc[k]['High'] >= maxm):\n",
    "                maxm = df.iloc[k]['High']\n",
    "        resistance = maxm\n",
    "        r.append(resistance)\n",
    "    if(df.iloc[i]['High'] >= resistance):\n",
    "        support = resistance\n",
    "        s.append(resistance)\n",
    "        #Finding new resistance\n",
    "        maxm = df.iloc[i]['High']\n",
    "        for k in range(i+1, len(df)):\n",
    "            if (df.iloc[k]['Low']) <= support:\n",
    "                break\n",
    "            if (df.iloc[k]['High']) <= support:\n",
    "                break\n",
    "            if (df.iloc[k]['Low'] >= maxm ):\n",
    "                maxm = df.iloc[k]['Low']\n",
    "            if (df.iloc[k]['High'] >= maxm):\n",
    "                maxm = df.iloc[k]['High']\n",
    "        resistance = maxm\n",
    "        r.append(resistance)"
   ]
  },
  {
   "cell_type": "code",
   "execution_count": 26,
   "id": "1460088a",
   "metadata": {},
   "outputs": [
    {
     "data": {
      "text/plain": [
       "28"
      ]
     },
     "execution_count": 26,
     "metadata": {},
     "output_type": "execute_result"
    }
   ],
   "source": [
    "len(r)"
   ]
  },
  {
   "cell_type": "code",
   "execution_count": 27,
   "id": "91c1bb02",
   "metadata": {},
   "outputs": [
    {
     "data": {
      "text/plain": [
       "[1654.3645726098293,\n",
       " 1654.3645726098293,\n",
       " 1751.8134867316883,\n",
       " 1654.3645726098293,\n",
       " 1754.5737870723726,\n",
       " 1654.3645726098293,\n",
       " 1733.6251180651027,\n",
       " 1654.3645726098293,\n",
       " 1630.5075937805966,\n",
       " 1630.5075937805966,\n",
       " 1630.5075937805966,\n",
       " 1732.4914806657096,\n",
       " 1630.5075937805966,\n",
       " 1425.5049587064982,\n",
       " 1837.5803255632052,\n",
       " 1837.5803255632052,\n",
       " 1837.5803255632052,\n",
       " 1461.9314315498366,\n",
       " 1788.0428137910915,\n",
       " 1788.0428137910915,\n",
       " 1788.0428137910915,\n",
       " 1636.5702534078748,\n",
       " 1736.8289625083896,\n",
       " 1736.8289625083896,\n",
       " 1736.8289625083896,\n",
       " 1658.258484122014,\n",
       " 1658.258484122014,\n",
       " 1693.649674258658]"
      ]
     },
     "execution_count": 27,
     "metadata": {},
     "output_type": "execute_result"
    }
   ],
   "source": [
    "r"
   ]
  },
  {
   "cell_type": "code",
   "execution_count": 28,
   "id": "94081f31",
   "metadata": {},
   "outputs": [
    {
     "data": {
      "text/plain": [
       "28"
      ]
     },
     "execution_count": 28,
     "metadata": {},
     "output_type": "execute_result"
    }
   ],
   "source": [
    "len(s)"
   ]
  },
  {
   "cell_type": "code",
   "execution_count": 29,
   "id": "a76feca2",
   "metadata": {},
   "outputs": [
    {
     "data": {
      "text/plain": [
       "[1654.3645726098293,\n",
       " 1654.3645726098293,\n",
       " 1654.3645726098293,\n",
       " 1646.3300056318997,\n",
       " 1654.3645726098293,\n",
       " 1410.9147540714553,\n",
       " 1654.3645726098293,\n",
       " 1630.5075937805966,\n",
       " 1410.9147540714553,\n",
       " 1630.5075937805966,\n",
       " 1425.5049587064982,\n",
       " 1630.5075937805966,\n",
       " 1425.5049587064982,\n",
       " 1425.5049587064982,\n",
       " 1425.5049587064982,\n",
       " 1837.5803255632052,\n",
       " 1461.9314315498366,\n",
       " 1461.9314315498366,\n",
       " 1461.9314315498366,\n",
       " 1788.0428137910915,\n",
       " 1636.5702534078748,\n",
       " 1636.5702534078748,\n",
       " 1636.5702534078748,\n",
       " 1736.8289625083896,\n",
       " 1658.258484122014,\n",
       " 1658.258484122014,\n",
       " 1658.258484122014,\n",
       " 1658.258484122014]"
      ]
     },
     "execution_count": 29,
     "metadata": {},
     "output_type": "execute_result"
    }
   ],
   "source": [
    "s"
   ]
  },
  {
   "cell_type": "code",
   "execution_count": null,
   "id": "4883c6e4",
   "metadata": {},
   "outputs": [],
   "source": []
  }
 ],
 "metadata": {
  "kernelspec": {
   "display_name": "Python 3 (ipykernel)",
   "language": "python",
   "name": "python3"
  },
  "language_info": {
   "codemirror_mode": {
    "name": "ipython",
    "version": 3
   },
   "file_extension": ".py",
   "mimetype": "text/x-python",
   "name": "python",
   "nbconvert_exporter": "python",
   "pygments_lexer": "ipython3",
   "version": "3.9.7"
  }
 },
 "nbformat": 4,
 "nbformat_minor": 5
}
