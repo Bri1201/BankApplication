{
 "cells": [
  {
   "cell_type": "code",
   "execution_count": 1,
   "id": "70f696df",
   "metadata": {},
   "outputs": [],
   "source": [
    "import numpy as np\n",
    "import pandas as pd\n",
    "import yfinance as yf"
   ]
  },
  {
   "cell_type": "code",
   "execution_count": 3,
   "id": "27eb488b",
   "metadata": {},
   "outputs": [],
   "source": [
    "#Importing data for list of top 500 companies based on market capitalisation\n",
    "nseCompanies = pd.DataFrame(pd.read_excel(\"MCAP_31032020_TOP500.xlsx\"))\n",
    "nseSymbols = nseCompanies['Symbol']"
   ]
  },
  {
   "cell_type": "code",
   "execution_count": null,
   "id": "4482766b",
   "metadata": {},
   "outputs": [],
   "source": []
  }
 ],
 "metadata": {
  "kernelspec": {
   "display_name": "Python 3 (ipykernel)",
   "language": "python",
   "name": "python3"
  },
  "language_info": {
   "codemirror_mode": {
    "name": "ipython",
    "version": 3
   },
   "file_extension": ".py",
   "mimetype": "text/x-python",
   "name": "python",
   "nbconvert_exporter": "python",
   "pygments_lexer": "ipython3",
   "version": "3.9.7"
  }
 },
 "nbformat": 4,
 "nbformat_minor": 5
}
