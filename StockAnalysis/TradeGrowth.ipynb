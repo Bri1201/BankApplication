{
 "cells": [
  {
   "cell_type": "code",
   "execution_count": 1,
   "id": "ff31eb68",
   "metadata": {},
   "outputs": [],
   "source": [
    "import numpy as np\n",
    "import pandas as pd\n",
    "import yfinance as yf\n",
    "from nsetools import Nse"
   ]
  },
  {
   "cell_type": "code",
   "execution_count": 2,
   "id": "8272e199",
   "metadata": {},
   "outputs": [],
   "source": [
    "nseObject = Nse()"
   ]
  },
  {
   "cell_type": "code",
   "execution_count": 3,
   "id": "a2d12081",
   "metadata": {},
   "outputs": [],
   "source": [
    "all_stock_codes = nseObject.get_stock_codes()"
   ]
  },
  {
   "cell_type": "code",
   "execution_count": 4,
   "id": "87829bb9",
   "metadata": {},
   "outputs": [
    {
     "data": {
      "text/plain": [
       "1819"
      ]
     },
     "execution_count": 4,
     "metadata": {},
     "output_type": "execute_result"
    }
   ],
   "source": [
    "len(all_stock_codes)"
   ]
  },
  {
   "cell_type": "code",
   "execution_count": 5,
   "id": "0bf59239",
   "metadata": {},
   "outputs": [],
   "source": [
    "listStockCodes = list(all_stock_codes.keys())"
   ]
  },
  {
   "cell_type": "code",
   "execution_count": 6,
   "id": "824faaad",
   "metadata": {},
   "outputs": [
    {
     "data": {
      "text/plain": [
       "'SYMBOL'"
      ]
     },
     "execution_count": 6,
     "metadata": {},
     "output_type": "execute_result"
    }
   ],
   "source": [
    "listStockCodes.pop(0)"
   ]
  },
  {
   "cell_type": "code",
   "execution_count": null,
   "id": "4be7f35b",
   "metadata": {},
   "outputs": [
    {
     "name": "stdout",
     "output_type": "stream",
     "text": [
      "- ARTEMISMED.NS: No data found for this date range, symbol may be delisted\n",
      "- AXITA.NS: Data doesn't exist for startDate = 1642098600, endDate = 1655404200\n",
      "- CHEVIOT.NS: Data doesn't exist for startDate = 1642098600, endDate = 1655404200\n",
      "- DIGJAMLMTD.NS: No data found for this date range, symbol may be delisted\n",
      "- EMAMIPAP.NS: No data found for this date range, symbol may be delisted\n",
      "- GUJRAFFIA.NS: No data found for this date range, symbol may be delisted\n",
      "- KALYANI.NS: No data found for this date range, symbol may be delisted\n"
     ]
    }
   ],
   "source": [
    "nse = {new_list: [] for new_list in listStockCodes}\n",
    "for i in listStockCodes:\n",
    "    try:\n",
    "        ticker = yf.Ticker(i + '.NS')\n",
    "        tickerHistory = ticker.history(interval=\"1d\", start=\"2022-01-14\", end=\"2022-06-17\")\n",
    "        start = tickerHistory.iloc[0]['High']\n",
    "        end = tickerHistory.iloc[-1]['High']\n",
    "        growth = (end - start)/start*100\n",
    "        nse[i] = [start,end,growth]\n",
    "    except IndexError:\n",
    "        nse.pop(i)\n",
    "        continue"
   ]
  },
  {
   "cell_type": "code",
   "execution_count": null,
   "id": "25070c7e",
   "metadata": {},
   "outputs": [],
   "source": [
    "#Print Number of stocks for which data has been found\n",
    "len(nse)"
   ]
  },
  {
   "cell_type": "code",
   "execution_count": null,
   "id": "7e53f706",
   "metadata": {},
   "outputs": [],
   "source": [
    "nseDf = pd.DataFrame.from_dict(nse)"
   ]
  },
  {
   "cell_type": "code",
   "execution_count": null,
   "id": "2e053f4d",
   "metadata": {},
   "outputs": [],
   "source": [
    "nseDf.head()"
   ]
  },
  {
   "cell_type": "code",
   "execution_count": null,
   "id": "6aee142e",
   "metadata": {},
   "outputs": [],
   "source": [
    "nseFinal = nseDf.transpose()\n",
    "nseFinal.head()"
   ]
  },
  {
   "cell_type": "code",
   "execution_count": null,
   "id": "122aaa85",
   "metadata": {},
   "outputs": [],
   "source": [
    "nseFinal.rename(columns = {0:'14January2022', 1:'23June2022',2:'GrowthPct'}, inplace = True)"
   ]
  },
  {
   "cell_type": "code",
   "execution_count": null,
   "id": "1e7368c7",
   "metadata": {},
   "outputs": [],
   "source": [
    "nseFinal.head()"
   ]
  },
  {
   "cell_type": "code",
   "execution_count": null,
   "id": "1785ab1d",
   "metadata": {},
   "outputs": [],
   "source": [
    "nseFinal.isna().sum()"
   ]
  },
  {
   "cell_type": "code",
   "execution_count": null,
   "id": "ea33246a",
   "metadata": {},
   "outputs": [],
   "source": [
    "for i in range(len(nseFinal)):\n",
    "    if np.isnan(nseFinal.iloc[i]['23June2022']):\n",
    "        print(nseFinal.iloc[i])"
   ]
  },
  {
   "cell_type": "code",
   "execution_count": null,
   "id": "d65f942c",
   "metadata": {},
   "outputs": [],
   "source": [
    "nseSorted = nseFinal.sort_values(by = \"GrowthPct\", ascending = False)"
   ]
  },
  {
   "cell_type": "code",
   "execution_count": null,
   "id": "cc600273",
   "metadata": {},
   "outputs": [],
   "source": [
    "nseSorted[:100]"
   ]
  },
  {
   "cell_type": "code",
   "execution_count": null,
   "id": "e2c7817a",
   "metadata": {},
   "outputs": [],
   "source": [
    "updatedDf = nseSorted.copy()\n",
    "updatedDf.head()\n",
    "for i in range(len(nseSorted.index)):\n",
    "    if (nseSorted.iloc[i]['23June2022'] < 100):\n",
    "        updatedDf.drop(nseSorted.index[i], inplace=True)"
   ]
  },
  {
   "cell_type": "code",
   "execution_count": null,
   "id": "d1efb50b",
   "metadata": {},
   "outputs": [],
   "source": [
    "len(updatedDf)"
   ]
  },
  {
   "cell_type": "code",
   "execution_count": null,
   "id": "62fe8821",
   "metadata": {},
   "outputs": [],
   "source": [
    "updatedDf.head()"
   ]
  },
  {
   "cell_type": "code",
   "execution_count": null,
   "id": "df609dff",
   "metadata": {},
   "outputs": [],
   "source": [
    "updatedDf[:30]"
   ]
  },
  {
   "cell_type": "code",
   "execution_count": null,
   "id": "2f89aa90",
   "metadata": {},
   "outputs": [],
   "source": [
    "nseSorted.to_excel(\"output.xlsx\")"
   ]
  },
  {
   "cell_type": "code",
   "execution_count": null,
   "id": "719c05b9",
   "metadata": {},
   "outputs": [],
   "source": [
    "nseSorted.to_csv(\"growers.csv\")"
   ]
  },
  {
   "cell_type": "code",
   "execution_count": null,
   "id": "55a3bc7f",
   "metadata": {},
   "outputs": [],
   "source": [
    "nseSorted[:30]"
   ]
  },
  {
   "cell_type": "code",
   "execution_count": null,
   "id": "438b9327",
   "metadata": {},
   "outputs": [],
   "source": [
    "tickerF = yf.Ticker('KOHINOOR.NS')\n",
    "tickerM = ticker.history(interval=\"1d\", start=\"2022-06-22\", end=\"2022-06-25\")"
   ]
  },
  {
   "cell_type": "code",
   "execution_count": null,
   "id": "671eb5bc",
   "metadata": {},
   "outputs": [],
   "source": [
    "tickerM.head()"
   ]
  },
  {
   "cell_type": "code",
   "execution_count": null,
   "id": "125d1586",
   "metadata": {},
   "outputs": [],
   "source": [
    "tradeVolume = {new_list: [] for new_list in listStockCodes}\n",
    "for i in listStockCodes:\n",
    "    try:\n",
    "        ticker = yf.Ticker(i + '.NS')\n",
    "        tickerHistory = ticker.history(interval=\"1d\", start=\"2022-06-22\", end=\"2022-06-25\")\n",
    "        start = tickerHistory.iloc[-2]['Volume']\n",
    "        end = tickerHistory.iloc[-1]['Volume']\n",
    "        growth = (end - start)/start*100\n",
    "        tradeVolume[i] = [start,end,growth]\n",
    "    except IndexError:\n",
    "        tradeVolume.pop(i)\n",
    "        continue"
   ]
  },
  {
   "cell_type": "code",
   "execution_count": null,
   "id": "aac860e3",
   "metadata": {},
   "outputs": [],
   "source": [
    "tradeVolume"
   ]
  },
  {
   "cell_type": "code",
   "execution_count": null,
   "id": "27accc6b",
   "metadata": {},
   "outputs": [],
   "source": [
    "trade = pd.DataFrame.from_dict(tradeVolume)"
   ]
  },
  {
   "cell_type": "code",
   "execution_count": null,
   "id": "e79f9603",
   "metadata": {},
   "outputs": [],
   "source": [
    "trade.head()"
   ]
  },
  {
   "cell_type": "code",
   "execution_count": null,
   "id": "4d47b97e",
   "metadata": {},
   "outputs": [],
   "source": [
    "tradeFinal = trade.transpose()"
   ]
  },
  {
   "cell_type": "code",
   "execution_count": null,
   "id": "66077213",
   "metadata": {},
   "outputs": [],
   "source": [
    "tradeFinal.head()"
   ]
  },
  {
   "cell_type": "code",
   "execution_count": null,
   "id": "e854c702",
   "metadata": {},
   "outputs": [],
   "source": [
    "tradeFinal.rename(columns = {0:'22June2022', 1:'23June2022',2:'GrowthTrade'}, inplace = True)"
   ]
  },
  {
   "cell_type": "code",
   "execution_count": null,
   "id": "7ff9363f",
   "metadata": {},
   "outputs": [],
   "source": [
    "tradeFinal.head()"
   ]
  },
  {
   "cell_type": "code",
   "execution_count": null,
   "id": "5197f891",
   "metadata": {},
   "outputs": [],
   "source": [
    "tradeFinal = tradeFinal.sort_values(by = \"GrowthTrade\", ascending = False)"
   ]
  },
  {
   "cell_type": "code",
   "execution_count": 45,
   "id": "329fbfd3",
   "metadata": {},
   "outputs": [
    {
     "data": {
      "text/html": [
       "<div>\n",
       "<style scoped>\n",
       "    .dataframe tbody tr th:only-of-type {\n",
       "        vertical-align: middle;\n",
       "    }\n",
       "\n",
       "    .dataframe tbody tr th {\n",
       "        vertical-align: top;\n",
       "    }\n",
       "\n",
       "    .dataframe thead th {\n",
       "        text-align: right;\n",
       "    }\n",
       "</style>\n",
       "<table border=\"1\" class=\"dataframe\">\n",
       "  <thead>\n",
       "    <tr style=\"text-align: right;\">\n",
       "      <th></th>\n",
       "      <th>22June2022</th>\n",
       "      <th>23June2022</th>\n",
       "      <th>GrowthTrade</th>\n",
       "    </tr>\n",
       "  </thead>\n",
       "  <tbody>\n",
       "    <tr>\n",
       "      <th>WEWIN</th>\n",
       "      <td>0.0</td>\n",
       "      <td>2293.0</td>\n",
       "      <td>inf</td>\n",
       "    </tr>\n",
       "    <tr>\n",
       "      <th>SAKAR</th>\n",
       "      <td>0.0</td>\n",
       "      <td>9730.0</td>\n",
       "      <td>inf</td>\n",
       "    </tr>\n",
       "    <tr>\n",
       "      <th>ESSENTIA</th>\n",
       "      <td>0.0</td>\n",
       "      <td>80100.0</td>\n",
       "      <td>inf</td>\n",
       "    </tr>\n",
       "    <tr>\n",
       "      <th>PDPL</th>\n",
       "      <td>34.0</td>\n",
       "      <td>5113.0</td>\n",
       "      <td>1.493824e+04</td>\n",
       "    </tr>\n",
       "    <tr>\n",
       "      <th>IMPEXFERRO</th>\n",
       "      <td>15416.0</td>\n",
       "      <td>1121108.0</td>\n",
       "      <td>7.172366e+03</td>\n",
       "    </tr>\n",
       "    <tr>\n",
       "      <th>MOKSH</th>\n",
       "      <td>29879.0</td>\n",
       "      <td>1890032.0</td>\n",
       "      <td>6.225620e+03</td>\n",
       "    </tr>\n",
       "    <tr>\n",
       "      <th>LAKPRE</th>\n",
       "      <td>121.0</td>\n",
       "      <td>5055.0</td>\n",
       "      <td>4.077686e+03</td>\n",
       "    </tr>\n",
       "    <tr>\n",
       "      <th>SORILINFRA</th>\n",
       "      <td>9535.0</td>\n",
       "      <td>386233.0</td>\n",
       "      <td>3.950687e+03</td>\n",
       "    </tr>\n",
       "    <tr>\n",
       "      <th>KANSAINER</th>\n",
       "      <td>69389.0</td>\n",
       "      <td>2723988.0</td>\n",
       "      <td>3.825677e+03</td>\n",
       "    </tr>\n",
       "    <tr>\n",
       "      <th>TREEHOUSE</th>\n",
       "      <td>17665.0</td>\n",
       "      <td>624317.0</td>\n",
       "      <td>3.434203e+03</td>\n",
       "    </tr>\n",
       "    <tr>\n",
       "      <th>GILLANDERS</th>\n",
       "      <td>109.0</td>\n",
       "      <td>3475.0</td>\n",
       "      <td>3.088073e+03</td>\n",
       "    </tr>\n",
       "    <tr>\n",
       "      <th>AHLADA</th>\n",
       "      <td>6843.0</td>\n",
       "      <td>208452.0</td>\n",
       "      <td>2.946208e+03</td>\n",
       "    </tr>\n",
       "    <tr>\n",
       "      <th>SHRIPISTON</th>\n",
       "      <td>2.0</td>\n",
       "      <td>59.0</td>\n",
       "      <td>2.850000e+03</td>\n",
       "    </tr>\n",
       "    <tr>\n",
       "      <th>ZENITHSTL</th>\n",
       "      <td>54409.0</td>\n",
       "      <td>1425269.0</td>\n",
       "      <td>2.519546e+03</td>\n",
       "    </tr>\n",
       "    <tr>\n",
       "      <th>UNIVPHOTO</th>\n",
       "      <td>674.0</td>\n",
       "      <td>15665.0</td>\n",
       "      <td>2.224184e+03</td>\n",
       "    </tr>\n",
       "    <tr>\n",
       "      <th>MUNJALAU</th>\n",
       "      <td>47137.0</td>\n",
       "      <td>1095066.0</td>\n",
       "      <td>2.223156e+03</td>\n",
       "    </tr>\n",
       "    <tr>\n",
       "      <th>GAYAPROJ</th>\n",
       "      <td>151513.0</td>\n",
       "      <td>3406076.0</td>\n",
       "      <td>2.148042e+03</td>\n",
       "    </tr>\n",
       "    <tr>\n",
       "      <th>SOLARA</th>\n",
       "      <td>43914.0</td>\n",
       "      <td>883826.0</td>\n",
       "      <td>1.912629e+03</td>\n",
       "    </tr>\n",
       "    <tr>\n",
       "      <th>NRBBEARING</th>\n",
       "      <td>59215.0</td>\n",
       "      <td>1167217.0</td>\n",
       "      <td>1.871151e+03</td>\n",
       "    </tr>\n",
       "    <tr>\n",
       "      <th>VARROC</th>\n",
       "      <td>70723.0</td>\n",
       "      <td>1375276.0</td>\n",
       "      <td>1.844595e+03</td>\n",
       "    </tr>\n",
       "    <tr>\n",
       "      <th>SOFTTECH</th>\n",
       "      <td>6.0</td>\n",
       "      <td>103.0</td>\n",
       "      <td>1.616667e+03</td>\n",
       "    </tr>\n",
       "    <tr>\n",
       "      <th>FRETAIL</th>\n",
       "      <td>1306847.0</td>\n",
       "      <td>21673102.0</td>\n",
       "      <td>1.558427e+03</td>\n",
       "    </tr>\n",
       "    <tr>\n",
       "      <th>MUNJALSHOW</th>\n",
       "      <td>18824.0</td>\n",
       "      <td>295268.0</td>\n",
       "      <td>1.468572e+03</td>\n",
       "    </tr>\n",
       "    <tr>\n",
       "      <th>NAHARCAP</th>\n",
       "      <td>7137.0</td>\n",
       "      <td>104384.0</td>\n",
       "      <td>1.362575e+03</td>\n",
       "    </tr>\n",
       "    <tr>\n",
       "      <th>AGROPHOS</th>\n",
       "      <td>15238.0</td>\n",
       "      <td>213295.0</td>\n",
       "      <td>1.299757e+03</td>\n",
       "    </tr>\n",
       "    <tr>\n",
       "      <th>AARVEEDEN</th>\n",
       "      <td>980.0</td>\n",
       "      <td>13655.0</td>\n",
       "      <td>1.293367e+03</td>\n",
       "    </tr>\n",
       "    <tr>\n",
       "      <th>SOUTHWEST</th>\n",
       "      <td>1019.0</td>\n",
       "      <td>13921.0</td>\n",
       "      <td>1.266143e+03</td>\n",
       "    </tr>\n",
       "    <tr>\n",
       "      <th>MMTC</th>\n",
       "      <td>753272.0</td>\n",
       "      <td>9629358.0</td>\n",
       "      <td>1.178337e+03</td>\n",
       "    </tr>\n",
       "    <tr>\n",
       "      <th>AKZOINDIA</th>\n",
       "      <td>4179.0</td>\n",
       "      <td>52141.0</td>\n",
       "      <td>1.147691e+03</td>\n",
       "    </tr>\n",
       "    <tr>\n",
       "      <th>AKG</th>\n",
       "      <td>6702.0</td>\n",
       "      <td>82362.0</td>\n",
       "      <td>1.128917e+03</td>\n",
       "    </tr>\n",
       "    <tr>\n",
       "      <th>LANCER</th>\n",
       "      <td>17785.0</td>\n",
       "      <td>211217.0</td>\n",
       "      <td>1.087613e+03</td>\n",
       "    </tr>\n",
       "    <tr>\n",
       "      <th>HIRECT</th>\n",
       "      <td>1987.0</td>\n",
       "      <td>23405.0</td>\n",
       "      <td>1.077906e+03</td>\n",
       "    </tr>\n",
       "    <tr>\n",
       "      <th>KBCGLOBAL</th>\n",
       "      <td>1359654.0</td>\n",
       "      <td>15487009.0</td>\n",
       "      <td>1.039040e+03</td>\n",
       "    </tr>\n",
       "    <tr>\n",
       "      <th>FSC</th>\n",
       "      <td>14933.0</td>\n",
       "      <td>169092.0</td>\n",
       "      <td>1.032338e+03</td>\n",
       "    </tr>\n",
       "    <tr>\n",
       "      <th>SUDARSCHEM</th>\n",
       "      <td>30724.0</td>\n",
       "      <td>347804.0</td>\n",
       "      <td>1.032027e+03</td>\n",
       "    </tr>\n",
       "    <tr>\n",
       "      <th>MACPOWER</th>\n",
       "      <td>1071.0</td>\n",
       "      <td>11928.0</td>\n",
       "      <td>1.013725e+03</td>\n",
       "    </tr>\n",
       "    <tr>\n",
       "      <th>GATEWAY</th>\n",
       "      <td>83676.0</td>\n",
       "      <td>925525.0</td>\n",
       "      <td>1.006082e+03</td>\n",
       "    </tr>\n",
       "    <tr>\n",
       "      <th>FLFL</th>\n",
       "      <td>23082.0</td>\n",
       "      <td>255240.0</td>\n",
       "      <td>1.005797e+03</td>\n",
       "    </tr>\n",
       "    <tr>\n",
       "      <th>REPCOHOME</th>\n",
       "      <td>130319.0</td>\n",
       "      <td>1433528.0</td>\n",
       "      <td>1.000015e+03</td>\n",
       "    </tr>\n",
       "    <tr>\n",
       "      <th>KIOCL</th>\n",
       "      <td>58656.0</td>\n",
       "      <td>641348.0</td>\n",
       "      <td>9.934056e+02</td>\n",
       "    </tr>\n",
       "  </tbody>\n",
       "</table>\n",
       "</div>"
      ],
      "text/plain": [
       "            22June2022  23June2022   GrowthTrade\n",
       "WEWIN              0.0      2293.0           inf\n",
       "SAKAR              0.0      9730.0           inf\n",
       "ESSENTIA           0.0     80100.0           inf\n",
       "PDPL              34.0      5113.0  1.493824e+04\n",
       "IMPEXFERRO     15416.0   1121108.0  7.172366e+03\n",
       "MOKSH          29879.0   1890032.0  6.225620e+03\n",
       "LAKPRE           121.0      5055.0  4.077686e+03\n",
       "SORILINFRA      9535.0    386233.0  3.950687e+03\n",
       "KANSAINER      69389.0   2723988.0  3.825677e+03\n",
       "TREEHOUSE      17665.0    624317.0  3.434203e+03\n",
       "GILLANDERS       109.0      3475.0  3.088073e+03\n",
       "AHLADA          6843.0    208452.0  2.946208e+03\n",
       "SHRIPISTON         2.0        59.0  2.850000e+03\n",
       "ZENITHSTL      54409.0   1425269.0  2.519546e+03\n",
       "UNIVPHOTO        674.0     15665.0  2.224184e+03\n",
       "MUNJALAU       47137.0   1095066.0  2.223156e+03\n",
       "GAYAPROJ      151513.0   3406076.0  2.148042e+03\n",
       "SOLARA         43914.0    883826.0  1.912629e+03\n",
       "NRBBEARING     59215.0   1167217.0  1.871151e+03\n",
       "VARROC         70723.0   1375276.0  1.844595e+03\n",
       "SOFTTECH           6.0       103.0  1.616667e+03\n",
       "FRETAIL      1306847.0  21673102.0  1.558427e+03\n",
       "MUNJALSHOW     18824.0    295268.0  1.468572e+03\n",
       "NAHARCAP        7137.0    104384.0  1.362575e+03\n",
       "AGROPHOS       15238.0    213295.0  1.299757e+03\n",
       "AARVEEDEN        980.0     13655.0  1.293367e+03\n",
       "SOUTHWEST       1019.0     13921.0  1.266143e+03\n",
       "MMTC          753272.0   9629358.0  1.178337e+03\n",
       "AKZOINDIA       4179.0     52141.0  1.147691e+03\n",
       "AKG             6702.0     82362.0  1.128917e+03\n",
       "LANCER         17785.0    211217.0  1.087613e+03\n",
       "HIRECT          1987.0     23405.0  1.077906e+03\n",
       "KBCGLOBAL    1359654.0  15487009.0  1.039040e+03\n",
       "FSC            14933.0    169092.0  1.032338e+03\n",
       "SUDARSCHEM     30724.0    347804.0  1.032027e+03\n",
       "MACPOWER        1071.0     11928.0  1.013725e+03\n",
       "GATEWAY        83676.0    925525.0  1.006082e+03\n",
       "FLFL           23082.0    255240.0  1.005797e+03\n",
       "REPCOHOME     130319.0   1433528.0  1.000015e+03\n",
       "KIOCL          58656.0    641348.0  9.934056e+02"
      ]
     },
     "execution_count": 45,
     "metadata": {},
     "output_type": "execute_result"
    }
   ],
   "source": [
    "tradeFinal[:40]"
   ]
  },
  {
   "cell_type": "code",
   "execution_count": null,
   "id": "67352cc5",
   "metadata": {},
   "outputs": [],
   "source": []
  }
 ],
 "metadata": {
  "kernelspec": {
   "display_name": "Python 3 (ipykernel)",
   "language": "python",
   "name": "python3"
  },
  "language_info": {
   "codemirror_mode": {
    "name": "ipython",
    "version": 3
   },
   "file_extension": ".py",
   "mimetype": "text/x-python",
   "name": "python",
   "nbconvert_exporter": "python",
   "pygments_lexer": "ipython3",
   "version": "3.9.7"
  }
 },
 "nbformat": 4,
 "nbformat_minor": 5
}
