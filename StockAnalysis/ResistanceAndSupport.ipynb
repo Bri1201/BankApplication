{
 "cells": [
  {
   "cell_type": "code",
   "execution_count": 1,
   "id": "02cde799",
   "metadata": {},
   "outputs": [
    {
     "name": "stdout",
     "output_type": "stream",
     "text": [
      "Requirement already satisfied: mplfinance in c:\\users\\dhing\\anaconda3\\lib\\site-packages (0.12.9b1)\n",
      "Requirement already satisfied: matplotlib in c:\\users\\dhing\\anaconda3\\lib\\site-packages (from mplfinance) (3.4.3)\n",
      "Requirement already satisfied: pandas in c:\\users\\dhing\\anaconda3\\lib\\site-packages (from mplfinance) (1.3.4)\n",
      "Requirement already satisfied: pillow>=6.2.0 in c:\\users\\dhing\\anaconda3\\lib\\site-packages (from matplotlib->mplfinance) (8.4.0)\n",
      "Requirement already satisfied: cycler>=0.10 in c:\\users\\dhing\\anaconda3\\lib\\site-packages (from matplotlib->mplfinance) (0.10.0)\n",
      "Requirement already satisfied: pyparsing>=2.2.1 in c:\\users\\dhing\\anaconda3\\lib\\site-packages (from matplotlib->mplfinance) (3.0.4)\n",
      "Requirement already satisfied: kiwisolver>=1.0.1 in c:\\users\\dhing\\anaconda3\\lib\\site-packages (from matplotlib->mplfinance) (1.3.1)\n",
      "Requirement already satisfied: numpy>=1.16 in c:\\users\\dhing\\anaconda3\\lib\\site-packages (from matplotlib->mplfinance) (1.20.3)\n",
      "Requirement already satisfied: python-dateutil>=2.7 in c:\\users\\dhing\\anaconda3\\lib\\site-packages (from matplotlib->mplfinance) (2.8.2)\n",
      "Requirement already satisfied: six in c:\\users\\dhing\\anaconda3\\lib\\site-packages (from cycler>=0.10->matplotlib->mplfinance) (1.16.0)\n",
      "Requirement already satisfied: pytz>=2017.3 in c:\\users\\dhing\\anaconda3\\lib\\site-packages (from pandas->mplfinance) (2021.3)\n"
     ]
    }
   ],
   "source": [
    "!pip install mplfinance"
   ]
  },
  {
   "cell_type": "code",
   "execution_count": 1,
   "id": "e73018d6",
   "metadata": {},
   "outputs": [],
   "source": [
    "import pandas as pd\n",
    "import numpy as np\n",
    "import yfinance\n",
    "from mplfinance.original_flavor import candlestick_ohlc\n",
    "import matplotlib.dates as mpl_dates\n",
    "import matplotlib.pyplot as plt"
   ]
  },
  {
   "cell_type": "code",
   "execution_count": 2,
   "id": "968fb8aa",
   "metadata": {},
   "outputs": [],
   "source": [
    "plt.rcParams['figure.figsize'] = [12, 7]\n",
    "plt.rc('font', size=14)"
   ]
  },
  {
   "cell_type": "code",
   "execution_count": 3,
   "id": "ae48e464",
   "metadata": {},
   "outputs": [],
   "source": [
    "ticker = yfinance.Ticker('ASIANPAINT.ns')"
   ]
  },
  {
   "cell_type": "code",
   "execution_count": 4,
   "id": "ed49ddb0",
   "metadata": {},
   "outputs": [],
   "source": [
    "df = ticker.history(interval=\"1d\", start=\"2020-03-15\", end=\"2020-07-15\")\n",
    "df['Date'] = pd.to_datetime(df.index)\n",
    "df['Date'] = df['Date'].apply(mpl_dates.date2num)\n"
   ]
  },
  {
   "cell_type": "code",
   "execution_count": 5,
   "id": "fab81f9c",
   "metadata": {},
   "outputs": [
    {
     "data": {
      "text/html": [
       "<div>\n",
       "<style scoped>\n",
       "    .dataframe tbody tr th:only-of-type {\n",
       "        vertical-align: middle;\n",
       "    }\n",
       "\n",
       "    .dataframe tbody tr th {\n",
       "        vertical-align: top;\n",
       "    }\n",
       "\n",
       "    .dataframe thead th {\n",
       "        text-align: right;\n",
       "    }\n",
       "</style>\n",
       "<table border=\"1\" class=\"dataframe\">\n",
       "  <thead>\n",
       "    <tr style=\"text-align: right;\">\n",
       "      <th></th>\n",
       "      <th>Open</th>\n",
       "      <th>High</th>\n",
       "      <th>Low</th>\n",
       "      <th>Close</th>\n",
       "      <th>Volume</th>\n",
       "      <th>Dividends</th>\n",
       "      <th>Stock Splits</th>\n",
       "      <th>Date</th>\n",
       "    </tr>\n",
       "    <tr>\n",
       "      <th>Date</th>\n",
       "      <th></th>\n",
       "      <th></th>\n",
       "      <th></th>\n",
       "      <th></th>\n",
       "      <th></th>\n",
       "      <th></th>\n",
       "      <th></th>\n",
       "      <th></th>\n",
       "    </tr>\n",
       "  </thead>\n",
       "  <tbody>\n",
       "    <tr>\n",
       "      <th>2020-03-16</th>\n",
       "      <td>1751.813616</td>\n",
       "      <td>1751.813616</td>\n",
       "      <td>1654.364694</td>\n",
       "      <td>1659.540283</td>\n",
       "      <td>2867336</td>\n",
       "      <td>0</td>\n",
       "      <td>0</td>\n",
       "      <td>18337.0</td>\n",
       "    </tr>\n",
       "    <tr>\n",
       "      <th>2020-03-17</th>\n",
       "      <td>1674.919090</td>\n",
       "      <td>1754.573913</td>\n",
       "      <td>1646.330123</td>\n",
       "      <td>1707.057007</td>\n",
       "      <td>2643189</td>\n",
       "      <td>0</td>\n",
       "      <td>0</td>\n",
       "      <td>18338.0</td>\n",
       "    </tr>\n",
       "    <tr>\n",
       "      <th>2020-03-18</th>\n",
       "      <td>1707.451378</td>\n",
       "      <td>1733.625118</td>\n",
       "      <td>1585.208901</td>\n",
       "      <td>1595.264282</td>\n",
       "      <td>3676437</td>\n",
       "      <td>0</td>\n",
       "      <td>0</td>\n",
       "      <td>18339.0</td>\n",
       "    </tr>\n",
       "    <tr>\n",
       "      <th>2020-03-19</th>\n",
       "      <td>1518.172719</td>\n",
       "      <td>1630.507594</td>\n",
       "      <td>1410.914754</td>\n",
       "      <td>1578.505249</td>\n",
       "      <td>4906644</td>\n",
       "      <td>0</td>\n",
       "      <td>0</td>\n",
       "      <td>18340.0</td>\n",
       "    </tr>\n",
       "    <tr>\n",
       "      <th>2020-03-20</th>\n",
       "      <td>1587.180521</td>\n",
       "      <td>1732.491358</td>\n",
       "      <td>1548.289717</td>\n",
       "      <td>1718.246094</td>\n",
       "      <td>3128629</td>\n",
       "      <td>0</td>\n",
       "      <td>0</td>\n",
       "      <td>18341.0</td>\n",
       "    </tr>\n",
       "  </tbody>\n",
       "</table>\n",
       "</div>"
      ],
      "text/plain": [
       "                   Open         High          Low        Close   Volume  \\\n",
       "Date                                                                      \n",
       "2020-03-16  1751.813616  1751.813616  1654.364694  1659.540283  2867336   \n",
       "2020-03-17  1674.919090  1754.573913  1646.330123  1707.057007  2643189   \n",
       "2020-03-18  1707.451378  1733.625118  1585.208901  1595.264282  3676437   \n",
       "2020-03-19  1518.172719  1630.507594  1410.914754  1578.505249  4906644   \n",
       "2020-03-20  1587.180521  1732.491358  1548.289717  1718.246094  3128629   \n",
       "\n",
       "            Dividends  Stock Splits     Date  \n",
       "Date                                          \n",
       "2020-03-16          0             0  18337.0  \n",
       "2020-03-17          0             0  18338.0  \n",
       "2020-03-18          0             0  18339.0  \n",
       "2020-03-19          0             0  18340.0  \n",
       "2020-03-20          0             0  18341.0  "
      ]
     },
     "execution_count": 5,
     "metadata": {},
     "output_type": "execute_result"
    }
   ],
   "source": [
    "df.head()"
   ]
  },
  {
   "cell_type": "code",
   "execution_count": 6,
   "id": "9f2c8c7d",
   "metadata": {},
   "outputs": [],
   "source": [
    "df = df.loc[:,['Date','Open','High','Low','Close']]"
   ]
  },
  {
   "cell_type": "code",
   "execution_count": 7,
   "id": "dbe5223e",
   "metadata": {},
   "outputs": [
    {
     "data": {
      "text/html": [
       "<div>\n",
       "<style scoped>\n",
       "    .dataframe tbody tr th:only-of-type {\n",
       "        vertical-align: middle;\n",
       "    }\n",
       "\n",
       "    .dataframe tbody tr th {\n",
       "        vertical-align: top;\n",
       "    }\n",
       "\n",
       "    .dataframe thead th {\n",
       "        text-align: right;\n",
       "    }\n",
       "</style>\n",
       "<table border=\"1\" class=\"dataframe\">\n",
       "  <thead>\n",
       "    <tr style=\"text-align: right;\">\n",
       "      <th></th>\n",
       "      <th>Date</th>\n",
       "      <th>Open</th>\n",
       "      <th>High</th>\n",
       "      <th>Low</th>\n",
       "      <th>Close</th>\n",
       "    </tr>\n",
       "    <tr>\n",
       "      <th>Date</th>\n",
       "      <th></th>\n",
       "      <th></th>\n",
       "      <th></th>\n",
       "      <th></th>\n",
       "      <th></th>\n",
       "    </tr>\n",
       "  </thead>\n",
       "  <tbody>\n",
       "    <tr>\n",
       "      <th>2020-03-16</th>\n",
       "      <td>18337.0</td>\n",
       "      <td>1751.813616</td>\n",
       "      <td>1751.813616</td>\n",
       "      <td>1654.364694</td>\n",
       "      <td>1659.540283</td>\n",
       "    </tr>\n",
       "    <tr>\n",
       "      <th>2020-03-17</th>\n",
       "      <td>18338.0</td>\n",
       "      <td>1674.919090</td>\n",
       "      <td>1754.573913</td>\n",
       "      <td>1646.330123</td>\n",
       "      <td>1707.057007</td>\n",
       "    </tr>\n",
       "    <tr>\n",
       "      <th>2020-03-18</th>\n",
       "      <td>18339.0</td>\n",
       "      <td>1707.451378</td>\n",
       "      <td>1733.625118</td>\n",
       "      <td>1585.208901</td>\n",
       "      <td>1595.264282</td>\n",
       "    </tr>\n",
       "    <tr>\n",
       "      <th>2020-03-19</th>\n",
       "      <td>18340.0</td>\n",
       "      <td>1518.172719</td>\n",
       "      <td>1630.507594</td>\n",
       "      <td>1410.914754</td>\n",
       "      <td>1578.505249</td>\n",
       "    </tr>\n",
       "    <tr>\n",
       "      <th>2020-03-20</th>\n",
       "      <td>18341.0</td>\n",
       "      <td>1587.180521</td>\n",
       "      <td>1732.491358</td>\n",
       "      <td>1548.289717</td>\n",
       "      <td>1718.246094</td>\n",
       "    </tr>\n",
       "  </tbody>\n",
       "</table>\n",
       "</div>"
      ],
      "text/plain": [
       "               Date         Open         High          Low        Close\n",
       "Date                                                                   \n",
       "2020-03-16  18337.0  1751.813616  1751.813616  1654.364694  1659.540283\n",
       "2020-03-17  18338.0  1674.919090  1754.573913  1646.330123  1707.057007\n",
       "2020-03-18  18339.0  1707.451378  1733.625118  1585.208901  1595.264282\n",
       "2020-03-19  18340.0  1518.172719  1630.507594  1410.914754  1578.505249\n",
       "2020-03-20  18341.0  1587.180521  1732.491358  1548.289717  1718.246094"
      ]
     },
     "execution_count": 7,
     "metadata": {},
     "output_type": "execute_result"
    }
   ],
   "source": [
    "df.head()"
   ]
  },
  {
   "cell_type": "code",
   "execution_count": 8,
   "id": "d9f6ad87",
   "metadata": {},
   "outputs": [],
   "source": [
    "def isSupport(df,i):\n",
    "    support = df['Low'][i] < df['Low'][i-1] and df['Low'][i]<df['Low'][i+1] and df['Low'][i+1] < df['Low'][i+2] and df['Low'][i-1] < df['Low'][i-2]\n",
    "    return support"
   ]
  },
  {
   "cell_type": "code",
   "execution_count": 9,
   "id": "e13f4e62",
   "metadata": {},
   "outputs": [],
   "source": [
    "def isResistance(df,i):\n",
    "  resistance = df['High'][i] > df['High'][i-1]  and df['High'][i] > df['High'][i+1] and df['High'][i+1] > df['High'][i+2] and df['High'][i-1] > df['High'][i-2]\n",
    "  return resistance"
   ]
  },
  {
   "cell_type": "code",
   "execution_count": 10,
   "id": "f0c38551",
   "metadata": {},
   "outputs": [],
   "source": [
    "#Finally, let’s create a list that will contain the levels we find. Each level is a tuple whose \n",
    "#first element is the index of the signal candle and the second element is the price value."
   ]
  },
  {
   "cell_type": "code",
   "execution_count": 11,
   "id": "b103dd28",
   "metadata": {},
   "outputs": [],
   "source": [
    "levels = []\n",
    "for i in range(2,df.shape[0]-2):\n",
    "  if isSupport(df,i):\n",
    "    levels.append((i,df['Low'][i]))\n",
    "  elif isResistance(df,i):\n",
    "    levels.append((i,df['High'][i]))"
   ]
  },
  {
   "cell_type": "code",
   "execution_count": 14,
   "id": "68d22392",
   "metadata": {},
   "outputs": [],
   "source": [
    "def plot_all():\n",
    "  fig, ax = plt.subplots()\n",
    "  candlestick_ohlc(ax,df.values,width=0.6, \\\n",
    "                   colorup='green', colordown='red', alpha=0.8)\n",
    "  date_format = mpl_dates.DateFormatter('%d %b %Y')\n",
    "  ax.xaxis.set_major_formatter(date_format)\n",
    "  fig.autofmt_xdate()\n",
    "  fig.tight_layout()\n",
    "  for level in levels:\n",
    "    plt.hlines(level[1],xmin=df['Date'][level[0]],\\\n",
    "               xmax=max(df['Date']),colors='blue')\n",
    "  fig.show()"
   ]
  },
  {
   "cell_type": "code",
   "execution_count": 15,
   "id": "ee04d578",
   "metadata": {},
   "outputs": [
    {
     "name": "stderr",
     "output_type": "stream",
     "text": [
      "C:\\Users\\dhing\\AppData\\Local\\Temp/ipykernel_14016/2905867858.py:12: UserWarning: Matplotlib is currently using module://matplotlib_inline.backend_inline, which is a non-GUI backend, so cannot show the figure.\n",
      "  fig.show()\n"
     ]
    },
    {
     "data": {
      "image/png": "[encoded data removed]",
      "text/plain": [
       "<Figure size 864x504 with 1 Axes>"
      ]
     },
     "metadata": {
      "needs_background": "light"
     },
     "output_type": "display_data"
    }
   ],
   "source": [
    "plot_all()"
   ]
  },
  {
   "cell_type": "code",
   "execution_count": 70,
   "id": "23eb43b3",
   "metadata": {},
   "outputs": [],
   "source": [
    "signals = []\n",
    "for i in range(len(df)):\n",
    "    if df.iloc[i,4]>df.iloc[i,1]:\n",
    "        signals.append(1)\n",
    "    else:\n",
    "        signals.append(0)\n",
    "df['Signal'] = signals"
   ]
  },
  {
   "cell_type": "code",
   "execution_count": 58,
   "id": "e72d107b",
   "metadata": {},
   "outputs": [
    {
     "data": {
      "text/html": [
       "<div>\n",
       "<style scoped>\n",
       "    .dataframe tbody tr th:only-of-type {\n",
       "        vertical-align: middle;\n",
       "    }\n",
       "\n",
       "    .dataframe tbody tr th {\n",
       "        vertical-align: top;\n",
       "    }\n",
       "\n",
       "    .dataframe thead th {\n",
       "        text-align: right;\n",
       "    }\n",
       "</style>\n",
       "<table border=\"1\" class=\"dataframe\">\n",
       "  <thead>\n",
       "    <tr style=\"text-align: right;\">\n",
       "      <th></th>\n",
       "      <th>Date</th>\n",
       "      <th>Open</th>\n",
       "      <th>High</th>\n",
       "      <th>Low</th>\n",
       "      <th>Close</th>\n",
       "      <th>Signal</th>\n",
       "    </tr>\n",
       "    <tr>\n",
       "      <th>Date</th>\n",
       "      <th></th>\n",
       "      <th></th>\n",
       "      <th></th>\n",
       "      <th></th>\n",
       "      <th></th>\n",
       "      <th></th>\n",
       "    </tr>\n",
       "  </thead>\n",
       "  <tbody>\n",
       "    <tr>\n",
       "      <th>2020-03-19</th>\n",
       "      <td>18340.0</td>\n",
       "      <td>1518.172719</td>\n",
       "      <td>1630.507594</td>\n",
       "      <td>1410.914754</td>\n",
       "      <td>1578.505249</td>\n",
       "      <td>1</td>\n",
       "    </tr>\n",
       "    <tr>\n",
       "      <th>2020-03-24</th>\n",
       "      <td>18345.0</td>\n",
       "      <td>1534.488197</td>\n",
       "      <td>1575.350655</td>\n",
       "      <td>1432.652278</td>\n",
       "      <td>1503.237427</td>\n",
       "      <td>0</td>\n",
       "    </tr>\n",
       "    <tr>\n",
       "      <th>2020-04-03</th>\n",
       "      <td>18355.0</td>\n",
       "      <td>1592.208182</td>\n",
       "      <td>1593.095450</td>\n",
       "      <td>1495.745093</td>\n",
       "      <td>1499.343384</td>\n",
       "      <td>0</td>\n",
       "    </tr>\n",
       "    <tr>\n",
       "      <th>2020-04-08</th>\n",
       "      <td>18360.0</td>\n",
       "      <td>1600.785004</td>\n",
       "      <td>1663.877896</td>\n",
       "      <td>1577.322287</td>\n",
       "      <td>1586.145386</td>\n",
       "      <td>0</td>\n",
       "    </tr>\n",
       "    <tr>\n",
       "      <th>2020-04-13</th>\n",
       "      <td>18365.0</td>\n",
       "      <td>1622.670100</td>\n",
       "      <td>1679.503011</td>\n",
       "      <td>1580.131671</td>\n",
       "      <td>1657.026123</td>\n",
       "      <td>1</td>\n",
       "    </tr>\n",
       "  </tbody>\n",
       "</table>\n",
       "</div>"
      ],
      "text/plain": [
       "               Date         Open         High          Low        Close  \\\n",
       "Date                                                                      \n",
       "2020-03-19  18340.0  1518.172719  1630.507594  1410.914754  1578.505249   \n",
       "2020-03-24  18345.0  1534.488197  1575.350655  1432.652278  1503.237427   \n",
       "2020-04-03  18355.0  1592.208182  1593.095450  1495.745093  1499.343384   \n",
       "2020-04-08  18360.0  1600.785004  1663.877896  1577.322287  1586.145386   \n",
       "2020-04-13  18365.0  1622.670100  1679.503011  1580.131671  1657.026123   \n",
       "\n",
       "            Signal  \n",
       "Date                \n",
       "2020-03-19       1  \n",
       "2020-03-24       0  \n",
       "2020-04-03       0  \n",
       "2020-04-08       0  \n",
       "2020-04-13       1  "
      ]
     },
     "execution_count": 58,
     "metadata": {},
     "output_type": "execute_result"
    }
   ],
   "source": [
    "df.head()"
   ]
  },
  {
   "cell_type": "code",
   "execution_count": 88,
   "id": "bcd832ff",
   "metadata": {},
   "outputs": [],
   "source": [
    "support = df.iloc[0,2] \n",
    "resistance = df.iloc[0,3]\n",
    "dateb=[]\n",
    "s=[]\n",
    "dates=[]\n",
    "r=[]\n",
    "dater=[]\n",
    "counts = 0\n",
    "countr = 0\n",
    "for i in range(len(df)):\n",
    "    #support becoming resistance\n",
    "    #breakpoints\n",
    "    if(df.iloc[i,2] <= support):\n",
    "        r.append(support)\n",
    "        resistance = support\n",
    "        countr +=1\n",
    "        dateb.append(df.iloc[i])\n",
    "    #support becoming resistance\n",
    "    elif ( df.iloc[i,3] <= support):\n",
    "        r.append(support)\n",
    "        resistance = support\n",
    "        countr +=1\n",
    "        dateb.append(df.iloc[i])\n",
    "    #resistance becoming support\n",
    "    if (df.iloc[i,2] >= resistance):\n",
    "        s.append(resistance)\n",
    "        support = resistance\n",
    "        counts +=1\n",
    "        dateb.append(df.iloc[i])\n",
    "    elif (df.iloc[i,3] >= resistance):\n",
    "        s.append(resistance)\n",
    "        support = resistance\n",
    "        counts +=1\n",
    "        dateb.append(df.iloc[i])\n",
    "        "
   ]
  },
  {
   "cell_type": "code",
   "execution_count": 92,
   "id": "111e3003",
   "metadata": {},
   "outputs": [
    {
     "data": {
      "text/plain": [
       "88"
      ]
     },
     "execution_count": 92,
     "metadata": {},
     "output_type": "execute_result"
    }
   ],
   "source": [
    "len(dateb)"
   ]
  },
  {
   "cell_type": "code",
   "execution_count": 100,
   "id": "c65323ff",
   "metadata": {},
   "outputs": [],
   "source": [
    "def findSupport(i,resistance):\n",
    "    ind = i\n",
    "    minm = resistance\n",
    "    price = resistance\n",
    "    while(price <= resistance):\n",
    "        price = df.iloc[ind,3]\n",
    "        if (price <= minm):\n",
    "            minm = price\n",
    "            print(minm)\n",
    "        ind +=1\n",
    "    return minm"
   ]
  },
  {
   "cell_type": "code",
   "execution_count": 98,
   "id": "a9fd4db7",
   "metadata": {},
   "outputs": [],
   "source": [
    "def findResistance(i, support):\n",
    "    ind = i\n",
    "    maxm = support\n",
    "    price = support\n",
    "    while(price >= support):\n",
    "        price = df.iloc[ind,2]\n",
    "        if(price >= maxm):\n",
    "            maxm = price\n",
    "        ind += 1\n",
    "    return maxm"
   ]
  },
  {
   "cell_type": "code",
   "execution_count": 101,
   "id": "1a698edd",
   "metadata": {},
   "outputs": [
    {
     "name": "stdout",
     "output_type": "stream",
     "text": [
      "1654.3645726098293\n",
      "1646.33012335968\n",
      "1585.209022069064\n",
      "1410.914863181517\n",
      "1646.33012335968\n",
      "1585.209022069064\n",
      "1410.914863181517\n",
      "1585.209022069064\n",
      "1410.914863181517\n",
      "1410.914863181517\n"
     ]
    },
    {
     "ename": "IndexError",
     "evalue": "single positional indexer is out-of-bounds",
     "output_type": "error",
     "traceback": [
      "\u001b[1;31m---------------------------------------------------------------------------\u001b[0m",
      "\u001b[1;31mIndexError\u001b[0m                                Traceback (most recent call last)",
      "\u001b[1;32m~\\AppData\\Local\\Temp/ipykernel_11484/1478633020.py\u001b[0m in \u001b[0;36m<module>\u001b[1;34m\u001b[0m\n\u001b[0;32m     30\u001b[0m         \u001b[0mcounts\u001b[0m \u001b[1;33m+=\u001b[0m\u001b[1;36m1\u001b[0m\u001b[1;33m\u001b[0m\u001b[1;33m\u001b[0m\u001b[0m\n\u001b[0;32m     31\u001b[0m         \u001b[0mdateb\u001b[0m\u001b[1;33m.\u001b[0m\u001b[0mappend\u001b[0m\u001b[1;33m(\u001b[0m\u001b[0mdf\u001b[0m\u001b[1;33m.\u001b[0m\u001b[0miloc\u001b[0m\u001b[1;33m[\u001b[0m\u001b[0mi\u001b[0m\u001b[1;33m]\u001b[0m\u001b[1;33m)\u001b[0m\u001b[1;33m\u001b[0m\u001b[1;33m\u001b[0m\u001b[0m\n\u001b[1;32m---> 32\u001b[1;33m         \u001b[0mresistance\u001b[0m \u001b[1;33m=\u001b[0m \u001b[0mfindResistance\u001b[0m\u001b[1;33m(\u001b[0m\u001b[0mi\u001b[0m\u001b[1;33m,\u001b[0m\u001b[0msupport\u001b[0m\u001b[1;33m)\u001b[0m\u001b[1;33m\u001b[0m\u001b[1;33m\u001b[0m\u001b[0m\n\u001b[0m\u001b[0;32m     33\u001b[0m     \u001b[1;32melif\u001b[0m \u001b[1;33m(\u001b[0m\u001b[0mdf\u001b[0m\u001b[1;33m.\u001b[0m\u001b[0miloc\u001b[0m\u001b[1;33m[\u001b[0m\u001b[0mi\u001b[0m\u001b[1;33m,\u001b[0m\u001b[1;36m3\u001b[0m\u001b[1;33m]\u001b[0m \u001b[1;33m>=\u001b[0m \u001b[0mresistance\u001b[0m\u001b[1;33m)\u001b[0m\u001b[1;33m:\u001b[0m\u001b[1;33m\u001b[0m\u001b[1;33m\u001b[0m\u001b[0m\n\u001b[0;32m     34\u001b[0m         \u001b[0ms\u001b[0m\u001b[1;33m.\u001b[0m\u001b[0mappend\u001b[0m\u001b[1;33m(\u001b[0m\u001b[0mresistance\u001b[0m\u001b[1;33m)\u001b[0m\u001b[1;33m\u001b[0m\u001b[1;33m\u001b[0m\u001b[0m\n",
      "\u001b[1;32m~\\AppData\\Local\\Temp/ipykernel_11484/777216754.py\u001b[0m in \u001b[0;36mfindResistance\u001b[1;34m(i, support)\u001b[0m\n\u001b[0;32m      4\u001b[0m     \u001b[0mprice\u001b[0m \u001b[1;33m=\u001b[0m \u001b[0msupport\u001b[0m\u001b[1;33m\u001b[0m\u001b[1;33m\u001b[0m\u001b[0m\n\u001b[0;32m      5\u001b[0m     \u001b[1;32mwhile\u001b[0m\u001b[1;33m(\u001b[0m\u001b[0mprice\u001b[0m \u001b[1;33m>=\u001b[0m \u001b[0msupport\u001b[0m\u001b[1;33m)\u001b[0m\u001b[1;33m:\u001b[0m\u001b[1;33m\u001b[0m\u001b[1;33m\u001b[0m\u001b[0m\n\u001b[1;32m----> 6\u001b[1;33m         \u001b[0mprice\u001b[0m \u001b[1;33m=\u001b[0m \u001b[0mdf\u001b[0m\u001b[1;33m.\u001b[0m\u001b[0miloc\u001b[0m\u001b[1;33m[\u001b[0m\u001b[0mind\u001b[0m\u001b[1;33m,\u001b[0m\u001b[1;36m2\u001b[0m\u001b[1;33m]\u001b[0m\u001b[1;33m\u001b[0m\u001b[1;33m\u001b[0m\u001b[0m\n\u001b[0m\u001b[0;32m      7\u001b[0m         \u001b[1;32mif\u001b[0m\u001b[1;33m(\u001b[0m\u001b[0mprice\u001b[0m \u001b[1;33m>=\u001b[0m \u001b[0mmaxm\u001b[0m\u001b[1;33m)\u001b[0m\u001b[1;33m:\u001b[0m\u001b[1;33m\u001b[0m\u001b[1;33m\u001b[0m\u001b[0m\n\u001b[0;32m      8\u001b[0m             \u001b[0mmaxm\u001b[0m \u001b[1;33m=\u001b[0m \u001b[0mprice\u001b[0m\u001b[1;33m\u001b[0m\u001b[1;33m\u001b[0m\u001b[0m\n",
      "\u001b[1;32m~\\anaconda3\\lib\\site-packages\\pandas\\core\\indexing.py\u001b[0m in \u001b[0;36m__getitem__\u001b[1;34m(self, key)\u001b[0m\n\u001b[0;32m    923\u001b[0m                 \u001b[1;32mwith\u001b[0m \u001b[0msuppress\u001b[0m\u001b[1;33m(\u001b[0m\u001b[0mKeyError\u001b[0m\u001b[1;33m,\u001b[0m \u001b[0mIndexError\u001b[0m\u001b[1;33m)\u001b[0m\u001b[1;33m:\u001b[0m\u001b[1;33m\u001b[0m\u001b[1;33m\u001b[0m\u001b[0m\n\u001b[0;32m    924\u001b[0m                     \u001b[1;32mreturn\u001b[0m \u001b[0mself\u001b[0m\u001b[1;33m.\u001b[0m\u001b[0mobj\u001b[0m\u001b[1;33m.\u001b[0m\u001b[0m_get_value\u001b[0m\u001b[1;33m(\u001b[0m\u001b[1;33m*\u001b[0m\u001b[0mkey\u001b[0m\u001b[1;33m,\u001b[0m \u001b[0mtakeable\u001b[0m\u001b[1;33m=\u001b[0m\u001b[0mself\u001b[0m\u001b[1;33m.\u001b[0m\u001b[0m_takeable\u001b[0m\u001b[1;33m)\u001b[0m\u001b[1;33m\u001b[0m\u001b[1;33m\u001b[0m\u001b[0m\n\u001b[1;32m--> 925\u001b[1;33m             \u001b[1;32mreturn\u001b[0m \u001b[0mself\u001b[0m\u001b[1;33m.\u001b[0m\u001b[0m_getitem_tuple\u001b[0m\u001b[1;33m(\u001b[0m\u001b[0mkey\u001b[0m\u001b[1;33m)\u001b[0m\u001b[1;33m\u001b[0m\u001b[1;33m\u001b[0m\u001b[0m\n\u001b[0m\u001b[0;32m    926\u001b[0m         \u001b[1;32melse\u001b[0m\u001b[1;33m:\u001b[0m\u001b[1;33m\u001b[0m\u001b[1;33m\u001b[0m\u001b[0m\n\u001b[0;32m    927\u001b[0m             \u001b[1;31m# we by definition only have the 0th axis\u001b[0m\u001b[1;33m\u001b[0m\u001b[1;33m\u001b[0m\u001b[0m\n",
      "\u001b[1;32m~\\anaconda3\\lib\\site-packages\\pandas\\core\\indexing.py\u001b[0m in \u001b[0;36m_getitem_tuple\u001b[1;34m(self, tup)\u001b[0m\n\u001b[0;32m   1504\u001b[0m     \u001b[1;32mdef\u001b[0m \u001b[0m_getitem_tuple\u001b[0m\u001b[1;33m(\u001b[0m\u001b[0mself\u001b[0m\u001b[1;33m,\u001b[0m \u001b[0mtup\u001b[0m\u001b[1;33m:\u001b[0m \u001b[0mtuple\u001b[0m\u001b[1;33m)\u001b[0m\u001b[1;33m:\u001b[0m\u001b[1;33m\u001b[0m\u001b[1;33m\u001b[0m\u001b[0m\n\u001b[0;32m   1505\u001b[0m \u001b[1;33m\u001b[0m\u001b[0m\n\u001b[1;32m-> 1506\u001b[1;33m         \u001b[0mself\u001b[0m\u001b[1;33m.\u001b[0m\u001b[0m_has_valid_tuple\u001b[0m\u001b[1;33m(\u001b[0m\u001b[0mtup\u001b[0m\u001b[1;33m)\u001b[0m\u001b[1;33m\u001b[0m\u001b[1;33m\u001b[0m\u001b[0m\n\u001b[0m\u001b[0;32m   1507\u001b[0m         \u001b[1;32mwith\u001b[0m \u001b[0msuppress\u001b[0m\u001b[1;33m(\u001b[0m\u001b[0mIndexingError\u001b[0m\u001b[1;33m)\u001b[0m\u001b[1;33m:\u001b[0m\u001b[1;33m\u001b[0m\u001b[1;33m\u001b[0m\u001b[0m\n\u001b[0;32m   1508\u001b[0m             \u001b[1;32mreturn\u001b[0m \u001b[0mself\u001b[0m\u001b[1;33m.\u001b[0m\u001b[0m_getitem_lowerdim\u001b[0m\u001b[1;33m(\u001b[0m\u001b[0mtup\u001b[0m\u001b[1;33m)\u001b[0m\u001b[1;33m\u001b[0m\u001b[1;33m\u001b[0m\u001b[0m\n",
      "\u001b[1;32m~\\anaconda3\\lib\\site-packages\\pandas\\core\\indexing.py\u001b[0m in \u001b[0;36m_has_valid_tuple\u001b[1;34m(self, key)\u001b[0m\n\u001b[0;32m    752\u001b[0m         \u001b[1;32mfor\u001b[0m \u001b[0mi\u001b[0m\u001b[1;33m,\u001b[0m \u001b[0mk\u001b[0m \u001b[1;32min\u001b[0m \u001b[0menumerate\u001b[0m\u001b[1;33m(\u001b[0m\u001b[0mkey\u001b[0m\u001b[1;33m)\u001b[0m\u001b[1;33m:\u001b[0m\u001b[1;33m\u001b[0m\u001b[1;33m\u001b[0m\u001b[0m\n\u001b[0;32m    753\u001b[0m             \u001b[1;32mtry\u001b[0m\u001b[1;33m:\u001b[0m\u001b[1;33m\u001b[0m\u001b[1;33m\u001b[0m\u001b[0m\n\u001b[1;32m--> 754\u001b[1;33m                 \u001b[0mself\u001b[0m\u001b[1;33m.\u001b[0m\u001b[0m_validate_key\u001b[0m\u001b[1;33m(\u001b[0m\u001b[0mk\u001b[0m\u001b[1;33m,\u001b[0m \u001b[0mi\u001b[0m\u001b[1;33m)\u001b[0m\u001b[1;33m\u001b[0m\u001b[1;33m\u001b[0m\u001b[0m\n\u001b[0m\u001b[0;32m    755\u001b[0m             \u001b[1;32mexcept\u001b[0m \u001b[0mValueError\u001b[0m \u001b[1;32mas\u001b[0m \u001b[0merr\u001b[0m\u001b[1;33m:\u001b[0m\u001b[1;33m\u001b[0m\u001b[1;33m\u001b[0m\u001b[0m\n\u001b[0;32m    756\u001b[0m                 raise ValueError(\n",
      "\u001b[1;32m~\\anaconda3\\lib\\site-packages\\pandas\\core\\indexing.py\u001b[0m in \u001b[0;36m_validate_key\u001b[1;34m(self, key, axis)\u001b[0m\n\u001b[0;32m   1407\u001b[0m             \u001b[1;32mreturn\u001b[0m\u001b[1;33m\u001b[0m\u001b[1;33m\u001b[0m\u001b[0m\n\u001b[0;32m   1408\u001b[0m         \u001b[1;32melif\u001b[0m \u001b[0mis_integer\u001b[0m\u001b[1;33m(\u001b[0m\u001b[0mkey\u001b[0m\u001b[1;33m)\u001b[0m\u001b[1;33m:\u001b[0m\u001b[1;33m\u001b[0m\u001b[1;33m\u001b[0m\u001b[0m\n\u001b[1;32m-> 1409\u001b[1;33m             \u001b[0mself\u001b[0m\u001b[1;33m.\u001b[0m\u001b[0m_validate_integer\u001b[0m\u001b[1;33m(\u001b[0m\u001b[0mkey\u001b[0m\u001b[1;33m,\u001b[0m \u001b[0maxis\u001b[0m\u001b[1;33m)\u001b[0m\u001b[1;33m\u001b[0m\u001b[1;33m\u001b[0m\u001b[0m\n\u001b[0m\u001b[0;32m   1410\u001b[0m         \u001b[1;32melif\u001b[0m \u001b[0misinstance\u001b[0m\u001b[1;33m(\u001b[0m\u001b[0mkey\u001b[0m\u001b[1;33m,\u001b[0m \u001b[0mtuple\u001b[0m\u001b[1;33m)\u001b[0m\u001b[1;33m:\u001b[0m\u001b[1;33m\u001b[0m\u001b[1;33m\u001b[0m\u001b[0m\n\u001b[0;32m   1411\u001b[0m             \u001b[1;31m# a tuple should already have been caught by this point\u001b[0m\u001b[1;33m\u001b[0m\u001b[1;33m\u001b[0m\u001b[0m\n",
      "\u001b[1;32m~\\anaconda3\\lib\\site-packages\\pandas\\core\\indexing.py\u001b[0m in \u001b[0;36m_validate_integer\u001b[1;34m(self, key, axis)\u001b[0m\n\u001b[0;32m   1498\u001b[0m         \u001b[0mlen_axis\u001b[0m \u001b[1;33m=\u001b[0m \u001b[0mlen\u001b[0m\u001b[1;33m(\u001b[0m\u001b[0mself\u001b[0m\u001b[1;33m.\u001b[0m\u001b[0mobj\u001b[0m\u001b[1;33m.\u001b[0m\u001b[0m_get_axis\u001b[0m\u001b[1;33m(\u001b[0m\u001b[0maxis\u001b[0m\u001b[1;33m)\u001b[0m\u001b[1;33m)\u001b[0m\u001b[1;33m\u001b[0m\u001b[1;33m\u001b[0m\u001b[0m\n\u001b[0;32m   1499\u001b[0m         \u001b[1;32mif\u001b[0m \u001b[0mkey\u001b[0m \u001b[1;33m>=\u001b[0m \u001b[0mlen_axis\u001b[0m \u001b[1;32mor\u001b[0m \u001b[0mkey\u001b[0m \u001b[1;33m<\u001b[0m \u001b[1;33m-\u001b[0m\u001b[0mlen_axis\u001b[0m\u001b[1;33m:\u001b[0m\u001b[1;33m\u001b[0m\u001b[1;33m\u001b[0m\u001b[0m\n\u001b[1;32m-> 1500\u001b[1;33m             \u001b[1;32mraise\u001b[0m \u001b[0mIndexError\u001b[0m\u001b[1;33m(\u001b[0m\u001b[1;34m\"single positional indexer is out-of-bounds\"\u001b[0m\u001b[1;33m)\u001b[0m\u001b[1;33m\u001b[0m\u001b[1;33m\u001b[0m\u001b[0m\n\u001b[0m\u001b[0;32m   1501\u001b[0m \u001b[1;33m\u001b[0m\u001b[0m\n\u001b[0;32m   1502\u001b[0m     \u001b[1;31m# -------------------------------------------------------------------\u001b[0m\u001b[1;33m\u001b[0m\u001b[1;33m\u001b[0m\u001b[0m\n",
      "\u001b[1;31mIndexError\u001b[0m: single positional indexer is out-of-bounds"
     ]
    }
   ],
   "source": [
    "support = df.iloc[0,2] \n",
    "resistance = df.iloc[0,3]\n",
    "dateb=[]\n",
    "s=[]\n",
    "dates=[]\n",
    "r=[]\n",
    "dater=[]\n",
    "counts = 0\n",
    "countr = 0\n",
    "for i in range(len(df)):\n",
    "    #support becoming resistance\n",
    "    #breakpoints\n",
    "    if(df.iloc[i,2] <= support):\n",
    "        r.append(support)\n",
    "        resistance = support\n",
    "        countr +=1\n",
    "        dateb.append(df.iloc[i])\n",
    "        support = findSupport(i, resistance)\n",
    "    #support becoming resistance\n",
    "    elif ( df.iloc[i,3] <= support):\n",
    "        r.append(support)\n",
    "        resistance = support\n",
    "        countr +=1\n",
    "        dateb.append(df.iloc[i])\n",
    "        support = findSupport(i, resistance)\n",
    "    #resistance becoming support\n",
    "    if (df.iloc[i,2] >= resistance):\n",
    "        s.append(resistance)\n",
    "        support = resistance\n",
    "        counts +=1\n",
    "        dateb.append(df.iloc[i])\n",
    "        resistance = findResistance(i,support)\n",
    "    elif (df.iloc[i,3] >= resistance):\n",
    "        s.append(resistance)\n",
    "        support = resistance\n",
    "        counts +=1\n",
    "        dateb.append(df.iloc[i])\n",
    "        resistance = findResistance(i,support)"
   ]
  },
  {
   "cell_type": "code",
   "execution_count": null,
   "id": "98f221e4",
   "metadata": {},
   "outputs": [],
   "source": []
  }
 ],
 "metadata": {
  "kernelspec": {
   "display_name": "Python 3 (ipykernel)",
   "language": "python",
   "name": "python3"
  },
  "language_info": {
   "codemirror_mode": {
    "name": "ipython",
    "version": 3
   },
   "file_extension": ".py",
   "mimetype": "text/x-python",
   "name": "python",
   "nbconvert_exporter": "python",
   "pygments_lexer": "ipython3",
   "version": "3.9.7"
  }
 },
 "nbformat": 4,
 "nbformat_minor": 5
}
